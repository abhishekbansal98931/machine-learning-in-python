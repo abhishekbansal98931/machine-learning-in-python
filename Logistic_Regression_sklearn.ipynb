{
 "cells": [
  {
   "cell_type": "markdown",
   "id": "a3b83b0e",
   "metadata": {},
   "source": [
    "## Machine Learning with Scikit-Learn\n",
    "Link: https://www.linkedin.com/learning/machine-learning-with-scikit-learn/effective-machine-learning-with-scikit-learn?autoplay=true"
   ]
  },
  {
   "cell_type": "markdown",
   "id": "48d5d8db",
   "metadata": {},
   "source": [
    "### Import Libraries"
   ]
  },
  {
   "cell_type": "code",
   "execution_count": 2,
   "id": "70a13c6e",
   "metadata": {},
   "outputs": [],
   "source": [
    "import matplotlib.pyplot as plt\n",
    "import pandas as pd\n",
    "import numpy as np\n",
    "import seaborn as sns\n",
    "\n",
    "from sklearn.datasets import load_iris\n",
    "from sklearn.datasets import load_boston\n",
    "from sklearn.model_selection import train_test_split\n",
    "from sklearn.preprocessing import StandardScaler\n",
    "from sklearn.linear_model import LogisticRegression\n",
    "from sklearn import metrics"
   ]
  },
  {
   "cell_type": "markdown",
   "id": "6d2d8be5",
   "metadata": {},
   "source": [
    "### Load Dataset"
   ]
  },
  {
   "cell_type": "code",
   "execution_count": 3,
   "id": "500f30bc",
   "metadata": {},
   "outputs": [],
   "source": [
    "data = load_iris()\n",
    "#data = load_boston()\n",
    "df = pd.DataFrame(data.data, columns=data.feature_names)\n",
    "df['species'] = data.target\n",
    "#df.head()"
   ]
  },
  {
   "cell_type": "code",
   "execution_count": 19,
   "id": "1e872b8e",
   "metadata": {},
   "outputs": [],
   "source": [
    "#df['species'].value_counts()"
   ]
  },
  {
   "cell_type": "code",
   "execution_count": 5,
   "id": "1c833a9f",
   "metadata": {},
   "outputs": [],
   "source": [
    "df = df[df.species != 2]"
   ]
  },
  {
   "cell_type": "markdown",
   "id": "aa9bda25",
   "metadata": {},
   "source": [
    "### Remove Missing values or Impute values"
   ]
  },
  {
   "cell_type": "code",
   "execution_count": 6,
   "id": "3190f18f",
   "metadata": {},
   "outputs": [
    {
     "data": {
      "text/plain": [
       "sepal length (cm)    0\n",
       "sepal width (cm)     0\n",
       "petal length (cm)    0\n",
       "petal width (cm)     0\n",
       "species              0\n",
       "dtype: int64"
      ]
     },
     "execution_count": 6,
     "metadata": {},
     "output_type": "execute_result"
    }
   ],
   "source": [
    "# Check whether there are any null or missing values\n",
    "df.isnull().sum()"
   ]
  },
  {
   "cell_type": "code",
   "execution_count": 7,
   "id": "d20fc52c",
   "metadata": {},
   "outputs": [],
   "source": [
    "# We can either remove missing values or fill them with mean, zeroes etc.\n",
    "\n",
    "# Remove entire rows from dataframe if they contain any nans in them \n",
    "df = df.dropna(how = 'any')\n",
    "## OR\n",
    "# Fill missing values with mean, zeroes etc with fillna() method\n",
    "df = df.fillna(0)"
   ]
  },
  {
   "cell_type": "markdown",
   "id": "11ebcf92",
   "metadata": {},
   "source": [
    "### Splitting data into Train and Test"
   ]
  },
  {
   "cell_type": "code",
   "execution_count": 8,
   "id": "5676c291",
   "metadata": {},
   "outputs": [],
   "source": [
    "X_train, X_test, y_train, y_test = train_test_split(df.loc[:, df.columns != \"species\"], df.species, random_state=3, train_size = 0.8, stratify = df.species)\n",
    "#stratify is used in classification for having same proportion of 1's and 0's in both test and train"
   ]
  },
  {
   "cell_type": "markdown",
   "id": "e6d39c8e",
   "metadata": {},
   "source": [
    "### Standardize the data\n",
    "Logistic Regression is effected by scale so you need to scale the features in the data before using Logistic Regresison. You can transform the data onto unit scale (mean = 0 and variance = 1) for better performance. Scikit-Learn's `StandardScaler` helps standardize the dataset’s features. Note you fit on the training set and transform on the training and test set."
   ]
  },
  {
   "cell_type": "code",
   "execution_count": 9,
   "id": "af65f2c7",
   "metadata": {},
   "outputs": [],
   "source": [
    "scaler = StandardScaler()\n",
    "\n",
    "# Fit on training set only.\n",
    "scaler.fit(X_train)\n",
    "\n",
    "# Apply transform to both the training set and the test set.\n",
    "X_train = scaler.transform(X_train)\n",
    "X_test = scaler.transform(X_test)"
   ]
  },
  {
   "cell_type": "markdown",
   "id": "0af6a795",
   "metadata": {},
   "source": [
    "### Logistic Regression"
   ]
  },
  {
   "cell_type": "markdown",
   "id": "9107863c",
   "metadata": {},
   "source": [
    "#### Create Instance"
   ]
  },
  {
   "cell_type": "code",
   "execution_count": 10,
   "id": "e19dd518",
   "metadata": {},
   "outputs": [],
   "source": [
    "# Make a logistic regression instance\n",
    "clf = LogisticRegression()"
   ]
  },
  {
   "cell_type": "markdown",
   "id": "c436b2a9",
   "metadata": {},
   "source": [
    "#### Train model"
   ]
  },
  {
   "cell_type": "code",
   "execution_count": 11,
   "id": "a57cb223",
   "metadata": {},
   "outputs": [
    {
     "data": {
      "text/plain": [
       "LogisticRegression()"
      ]
     },
     "execution_count": 11,
     "metadata": {},
     "output_type": "execute_result"
    }
   ],
   "source": [
    "# Training the model\n",
    "clf.fit(X_train,y_train)"
   ]
  },
  {
   "cell_type": "markdown",
   "id": "5f59005c",
   "metadata": {},
   "source": [
    "#### Predict"
   ]
  },
  {
   "cell_type": "code",
   "execution_count": 12,
   "id": "900a94ea",
   "metadata": {},
   "outputs": [
    {
     "name": "stdout",
     "output_type": "stream",
     "text": [
      "prediction [1]\n",
      "probability [[0.09758832 0.90241168]]\n"
     ]
    }
   ],
   "source": [
    "# Predict for few observations\n",
    "print('prediction', clf.predict(df.loc[0:0, df.columns != \"species\"]))\n",
    "print('probability', clf.predict_proba(df.loc[0:0, df.columns != \"species\"]))"
   ]
  },
  {
   "cell_type": "code",
   "execution_count": 13,
   "id": "7cbae8fb",
   "metadata": {},
   "outputs": [
    {
     "data": {
      "text/html": [
       "<div>\n",
       "<style scoped>\n",
       "    .dataframe tbody tr th:only-of-type {\n",
       "        vertical-align: middle;\n",
       "    }\n",
       "\n",
       "    .dataframe tbody tr th {\n",
       "        vertical-align: top;\n",
       "    }\n",
       "\n",
       "    .dataframe thead th {\n",
       "        text-align: right;\n",
       "    }\n",
       "</style>\n",
       "<table border=\"1\" class=\"dataframe\">\n",
       "  <thead>\n",
       "    <tr style=\"text-align: right;\">\n",
       "      <th></th>\n",
       "      <th>prob</th>\n",
       "      <th>pred</th>\n",
       "      <th>actual</th>\n",
       "    </tr>\n",
       "  </thead>\n",
       "  <tbody>\n",
       "    <tr>\n",
       "      <th>60</th>\n",
       "      <td>0.969776</td>\n",
       "      <td>1</td>\n",
       "      <td>1</td>\n",
       "    </tr>\n",
       "    <tr>\n",
       "      <th>96</th>\n",
       "      <td>0.973105</td>\n",
       "      <td>1</td>\n",
       "      <td>1</td>\n",
       "    </tr>\n",
       "    <tr>\n",
       "      <th>57</th>\n",
       "      <td>0.895898</td>\n",
       "      <td>1</td>\n",
       "      <td>1</td>\n",
       "    </tr>\n",
       "    <tr>\n",
       "      <th>49</th>\n",
       "      <td>0.020124</td>\n",
       "      <td>0</td>\n",
       "      <td>0</td>\n",
       "    </tr>\n",
       "    <tr>\n",
       "      <th>3</th>\n",
       "      <td>0.021880</td>\n",
       "      <td>0</td>\n",
       "      <td>0</td>\n",
       "    </tr>\n",
       "    <tr>\n",
       "      <th>51</th>\n",
       "      <td>0.989503</td>\n",
       "      <td>1</td>\n",
       "      <td>1</td>\n",
       "    </tr>\n",
       "    <tr>\n",
       "      <th>10</th>\n",
       "      <td>0.013779</td>\n",
       "      <td>0</td>\n",
       "      <td>0</td>\n",
       "    </tr>\n",
       "    <tr>\n",
       "      <th>42</th>\n",
       "      <td>0.010998</td>\n",
       "      <td>0</td>\n",
       "      <td>0</td>\n",
       "    </tr>\n",
       "    <tr>\n",
       "      <th>24</th>\n",
       "      <td>0.019896</td>\n",
       "      <td>0</td>\n",
       "      <td>0</td>\n",
       "    </tr>\n",
       "    <tr>\n",
       "      <th>41</th>\n",
       "      <td>0.132328</td>\n",
       "      <td>0</td>\n",
       "      <td>0</td>\n",
       "    </tr>\n",
       "    <tr>\n",
       "      <th>0</th>\n",
       "      <td>0.014002</td>\n",
       "      <td>0</td>\n",
       "      <td>0</td>\n",
       "    </tr>\n",
       "    <tr>\n",
       "      <th>19</th>\n",
       "      <td>0.009544</td>\n",
       "      <td>0</td>\n",
       "      <td>0</td>\n",
       "    </tr>\n",
       "    <tr>\n",
       "      <th>85</th>\n",
       "      <td>0.978105</td>\n",
       "      <td>1</td>\n",
       "      <td>1</td>\n",
       "    </tr>\n",
       "    <tr>\n",
       "      <th>87</th>\n",
       "      <td>0.997617</td>\n",
       "      <td>1</td>\n",
       "      <td>1</td>\n",
       "    </tr>\n",
       "    <tr>\n",
       "      <th>71</th>\n",
       "      <td>0.984468</td>\n",
       "      <td>1</td>\n",
       "      <td>1</td>\n",
       "    </tr>\n",
       "    <tr>\n",
       "      <th>83</th>\n",
       "      <td>0.997818</td>\n",
       "      <td>1</td>\n",
       "      <td>1</td>\n",
       "    </tr>\n",
       "    <tr>\n",
       "      <th>86</th>\n",
       "      <td>0.995378</td>\n",
       "      <td>1</td>\n",
       "      <td>1</td>\n",
       "    </tr>\n",
       "    <tr>\n",
       "      <th>8</th>\n",
       "      <td>0.025172</td>\n",
       "      <td>0</td>\n",
       "      <td>0</td>\n",
       "    </tr>\n",
       "    <tr>\n",
       "      <th>77</th>\n",
       "      <td>0.998393</td>\n",
       "      <td>1</td>\n",
       "      <td>1</td>\n",
       "    </tr>\n",
       "    <tr>\n",
       "      <th>21</th>\n",
       "      <td>0.015739</td>\n",
       "      <td>0</td>\n",
       "      <td>0</td>\n",
       "    </tr>\n",
       "  </tbody>\n",
       "</table>\n",
       "</div>"
      ],
      "text/plain": [
       "        prob  pred  actual\n",
       "60  0.969776     1       1\n",
       "96  0.973105     1       1\n",
       "57  0.895898     1       1\n",
       "49  0.020124     0       0\n",
       "3   0.021880     0       0\n",
       "51  0.989503     1       1\n",
       "10  0.013779     0       0\n",
       "42  0.010998     0       0\n",
       "24  0.019896     0       0\n",
       "41  0.132328     0       0\n",
       "0   0.014002     0       0\n",
       "19  0.009544     0       0\n",
       "85  0.978105     1       1\n",
       "87  0.997617     1       1\n",
       "71  0.984468     1       1\n",
       "83  0.997818     1       1\n",
       "86  0.995378     1       1\n",
       "8   0.025172     0       0\n",
       "77  0.998393     1       1\n",
       "21  0.015739     0       0"
      ]
     },
     "execution_count": 13,
     "metadata": {},
     "output_type": "execute_result"
    }
   ],
   "source": [
    "# Predictions for test data\n",
    "pd.DataFrame({\"prob\" :clf.predict_proba(X_test)[:,1], \"pred\": clf.predict(X_test), \"actual\":y_test})"
   ]
  },
  {
   "cell_type": "markdown",
   "id": "3d42ee8f",
   "metadata": {},
   "source": [
    "#### Model Performance"
   ]
  },
  {
   "cell_type": "markdown",
   "id": "23bb59c7",
   "metadata": {},
   "source": [
    "Accuracy"
   ]
  },
  {
   "cell_type": "code",
   "execution_count": 14,
   "id": "a6675227",
   "metadata": {},
   "outputs": [
    {
     "name": "stdout",
     "output_type": "stream",
     "text": [
      "1.0\n"
     ]
    }
   ],
   "source": [
    "score = clf.score(X_test, y_test)\n",
    "print(score)"
   ]
  },
  {
   "cell_type": "markdown",
   "id": "bf3dc840",
   "metadata": {},
   "source": [
    "Confusion matrix"
   ]
  },
  {
   "cell_type": "code",
   "execution_count": 15,
   "id": "511ef516",
   "metadata": {},
   "outputs": [
    {
     "data": {
      "image/png": "[encoded data removed]",
      "text/plain": [
       "<Figure size 216x216 with 2 Axes>"
      ]
     },
     "metadata": {
      "needs_background": "light"
     },
     "output_type": "display_data"
    }
   ],
   "source": [
    "cm = metrics.confusion_matrix(y_test, clf.predict(X_test))\n",
    "\n",
    "plt.figure(figsize=(3,3))\n",
    "sns.heatmap(cm, annot=True,\n",
    "            fmt=\".0f\",\n",
    "            linewidths=.5,\n",
    "            square = True,\n",
    "            cmap = 'Blues');\n",
    "plt.ylabel('Actual label', fontsize = 10);\n",
    "plt.xlabel('Predicted label', fontsize = 10);\n",
    "plt.title('Accuracy Score: {}'.format(score), size = 10);\n",
    "plt.tick_params(labelsize= 10)"
   ]
  },
  {
   "cell_type": "code",
   "execution_count": 16,
   "id": "0179bb9b",
   "metadata": {},
   "outputs": [],
   "source": [
    "modified_cm = []\n",
    "for index,value in enumerate(cm):\n",
    "    if index == 0:\n",
    "        modified_cm.append(['TN = ' + str(value[0]), 'FP = ' + str(value[1])])\n",
    "    if index == 1:\n",
    "        modified_cm.append(['FN = ' + str(value[0]), 'TP = ' + str(value[1])])  "
   ]
  },
  {
   "cell_type": "code",
   "execution_count": 17,
   "id": "3f9db44e",
   "metadata": {},
   "outputs": [
    {
     "data": {
      "text/plain": [
       "[['TN = 10', 'FP = 0'], ['FN = 0', 'TP = 10']]"
      ]
     },
     "execution_count": 17,
     "metadata": {},
     "output_type": "execute_result"
    }
   ],
   "source": [
    "modified_cm"
   ]
  },
  {
   "cell_type": "code",
   "execution_count": 18,
   "id": "07ba450d",
   "metadata": {},
   "outputs": [
    {
     "data": {
      "image/png": "[encoded data removed]",
      "text/plain": [
       "<Figure size 216x216 with 2 Axes>"
      ]
     },
     "metadata": {
      "needs_background": "light"
     },
     "output_type": "display_data"
    }
   ],
   "source": [
    "plt.figure(figsize=(3,3))\n",
    "sns.heatmap(cm, annot=np.array(modified_cm),\n",
    "            fmt=\"\",\n",
    "            annot_kws={\"size\": 10},\n",
    "            linewidths=.5,\n",
    "            square = True,\n",
    "            cmap = 'Blues',\n",
    "            xticklabels = [0, 1],\n",
    "            yticklabels = [0, 1],\n",
    "            );\n",
    "\n",
    "plt.ylabel('Actual label', fontsize = 10);\n",
    "plt.xlabel('Predicted label', fontsize = 10);\n",
    "plt.title('Accuracy Score: {:.3f}'.format(score), size = 10);\n",
    "plt.tick_params(labelsize= 10)"
   ]
  },
  {
   "cell_type": "markdown",
   "id": "af223c06",
   "metadata": {},
   "source": [
    "Precision, Recall and F1 score"
   ]
  },
  {
   "cell_type": "code",
   "execution_count": 19,
   "id": "3a5d85ba",
   "metadata": {},
   "outputs": [
    {
     "name": "stdout",
     "output_type": "stream",
     "text": [
      "precision 1.0\n",
      "recall 1.0\n",
      "f1_score 1.0\n"
     ]
    }
   ],
   "source": [
    "print(\"precision\", metrics.precision_score(y_test, clf.predict(X_test))) # TP / TP+FP\n",
    "print(\"recall\", metrics.recall_score(y_test, clf.predict(X_test))) # TP / TP+FN\n",
    "print(\"f1_score\", metrics.f1_score(y_test, clf.predict(X_test))) # Harmonic mean of precision and recall "
   ]
  },
  {
   "cell_type": "code",
   "execution_count": 20,
   "id": "318b6e53",
   "metadata": {},
   "outputs": [
    {
     "data": {
      "text/plain": [
       "(array([1., 1., 1., 1., 1., 1., 1., 1., 1., 1., 1.]),\n",
       " array([1. , 0.9, 0.8, 0.7, 0.6, 0.5, 0.4, 0.3, 0.2, 0.1, 0. ]),\n",
       " array([0.89589792, 0.96977625, 0.97310488, 0.97810544, 0.98446812,\n",
       "        0.98950334, 0.99537805, 0.9976167 , 0.99781761, 0.99839281]))"
      ]
     },
     "execution_count": 20,
     "metadata": {},
     "output_type": "execute_result"
    }
   ],
   "source": [
    "# Precision and Recall values for different thresholds (outputs precision, recall and threshold values)\n",
    "metrics.precision_recall_curve(y_test, clf.predict_proba(X_test)[:,1])"
   ]
  },
  {
   "cell_type": "code",
   "execution_count": 21,
   "id": "6c32e01a",
   "metadata": {},
   "outputs": [
    {
     "data": {
      "text/plain": [
       "<sklearn.metrics._plot.precision_recall_curve.PrecisionRecallDisplay at 0x1ae047c6c10>"
      ]
     },
     "execution_count": 21,
     "metadata": {},
     "output_type": "execute_result"
    },
    {
     "data": {
      "image/png": "[encoded data removed]",
      "text/plain": [
       "<Figure size 432x288 with 1 Axes>"
      ]
     },
     "metadata": {
      "needs_background": "light"
     },
     "output_type": "display_data"
    }
   ],
   "source": [
    "# Plots precision recall curve for different threshold values\n",
    "metrics.plot_precision_recall_curve(clf, X_test, y_test)"
   ]
  },
  {
   "cell_type": "markdown",
   "id": "c1f21de7",
   "metadata": {},
   "source": [
    "ROC Curve"
   ]
  },
  {
   "cell_type": "code",
   "execution_count": 22,
   "id": "ba903aae",
   "metadata": {},
   "outputs": [],
   "source": [
    "fpr, tpr, thresholds = metrics.roc_curve(y_test, clf.predict_proba(X_test)[:,1])"
   ]
  },
  {
   "cell_type": "code",
   "execution_count": 28,
   "id": "20391d04",
   "metadata": {},
   "outputs": [
    {
     "data": {
      "text/plain": [
       "(array([0., 0., 0., 1.]),\n",
       " array([0. , 0.1, 1. , 1. ]),\n",
       " array([1.99839281, 0.99839281, 0.89589792, 0.00954442]))"
      ]
     },
     "execution_count": 28,
     "metadata": {},
     "output_type": "execute_result"
    }
   ],
   "source": [
    "fpr, tpr, thresholds"
   ]
  },
  {
   "cell_type": "code",
   "execution_count": 30,
   "id": "afbf119d",
   "metadata": {},
   "outputs": [
    {
     "data": {
      "image/png": "[encoded data removed]",
      "text/plain": [
       "<Figure size 432x288 with 1 Axes>"
      ]
     },
     "metadata": {
      "needs_background": "light"
     },
     "output_type": "display_data"
    }
   ],
   "source": [
    "#Plot ROC curve\n",
    "baseline_proba = [0 for _ in range(len(y_test))]\n",
    "fpr_baseline, tpr_baseline, _ = metrics.roc_curve(y_test, baseline_proba)\n",
    "\n",
    "# plot the roc curve for the model\n",
    "plt.plot(fpr_baseline, tpr_baseline, linestyle='--', label='Baseline')\n",
    "plt.plot(fpr, tpr, marker='.', label='Logistic')\n",
    "# axis labels\n",
    "plt.xlabel('False Positive Rate')\n",
    "plt.ylabel('True Positive Rate')\n",
    "# show the legend\n",
    "plt.legend()\n",
    "# show the plot\n",
    "plt.show()"
   ]
  },
  {
   "cell_type": "code",
   "execution_count": null,
   "id": "b21b7962",
   "metadata": {},
   "outputs": [],
   "source": []
  },
  {
   "cell_type": "code",
   "execution_count": null,
   "id": "4bd45113",
   "metadata": {},
   "outputs": [],
   "source": []
  }
 ],
 "metadata": {
  "kernelspec": {
   "display_name": "Python 3",
   "language": "python",
   "name": "python3"
  },
  "language_info": {
   "codemirror_mode": {
    "name": "ipython",
    "version": 3
   },
   "file_extension": ".py",
   "mimetype": "text/x-python",
   "name": "python",
   "nbconvert_exporter": "python",
   "pygments_lexer": "ipython3",
   "version": "3.8.8"
  }
 },
 "nbformat": 4,
 "nbformat_minor": 5
}
